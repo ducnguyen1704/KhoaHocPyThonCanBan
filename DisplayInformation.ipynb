{
 "cells": [
  {
   "cell_type": "markdown",
   "source": [
    "# Nguyễn Văn Đức"
   ],
   "metadata": {}
  },
  {
   "cell_type": "markdown",
   "source": [
    "1. Bài tập in thông tin cá nhân"
   ],
   "metadata": {}
  },
  {
   "cell_type": "code",
   "execution_count": 4,
   "source": [
    "Name = 'Nguyễn Văn Đức'\r\n",
    "Date = '17/04/2000'\r\n",
    "Add = 'Bảo Lộc - Lâm Đồng'\r\n",
    "School = 'Đại Học Công Nghiệp TP.HCM'\r\n",
    "Purpuse = 'Em muốn lấy lại nền tảng từ python căn bản để hướng tới các ngành về phân tích dữ liệu và khoa học máy tính. ĐỒng thời khóa học có thể giúp e rất nhiều trong chuyên ngành em đang theo học'\r\n"
   ],
   "outputs": [],
   "metadata": {}
  },
  {
   "cell_type": "code",
   "execution_count": 5,
   "source": [
    "print('THÔNG TIN SINH VIÊN')\r\n",
    "print('Họ Và Tên: ', Name)\r\n",
    "print('Ngày tháng năm sinh: ', Date)\r\n",
    "print('Địa chỉ: ', Add)\r\n",
    "print('Trường đang theo học: ', School)\r\n",
    "print('Mục đích đến với khóa học: ', Purpuse)"
   ],
   "outputs": [
    {
     "output_type": "stream",
     "name": "stdout",
     "text": [
      "THÔNG TIN SINH VIÊN\n",
      "Họ Và Tên:  Nguyễn Văn Đức\n",
      "Ngày tháng năm sinh:  17/04/2000\n",
      "Địa chỉ:  Bảo Lộc - Lâm Đồng\n",
      "Trường đang theo học:  Đại Học Công Nghiệp TP.HCM\n",
      "Mục đích đến với khóa học:  Em muốn lấy lại nền tảng từ python căn bản để hướng tới các ngành về phân tích dữ liệu và khoa học máy tính. ĐỒng thời khóa học có thể giúp e rất nhiều trong chuyên ngành em đang theo học\n"
     ]
    }
   ],
   "metadata": {}
  },
  {
   "cell_type": "markdown",
   "source": [],
   "metadata": {}
  }
 ],
 "metadata": {
  "orig_nbformat": 4,
  "language_info": {
   "name": "python",
   "version": "3.7.0",
   "mimetype": "text/x-python",
   "codemirror_mode": {
    "name": "ipython",
    "version": 3
   },
   "pygments_lexer": "ipython3",
   "nbconvert_exporter": "python",
   "file_extension": ".py"
  },
  "kernelspec": {
   "name": "python3",
   "display_name": "Python 3.7.0 64-bit"
  },
  "interpreter": {
   "hash": "fbe69909b876abbd803d291e51ebabcdbbeff4e7f625f723ebefe76e750e4611"
  }
 },
 "nbformat": 4,
 "nbformat_minor": 2
}